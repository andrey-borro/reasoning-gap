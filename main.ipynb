{
 "cells": [
  {
   "cell_type": "markdown",
   "metadata": {},
   "source": [
    "This notebook is a general example of all the main uses for the code in this repository and was used to generate the results in the examples directory"
   ]
  },
  {
   "cell_type": "markdown",
   "metadata": {},
   "source": [
    "### BlocksWorld"
   ]
  },
  {
   "cell_type": "code",
   "execution_count": null,
   "metadata": {},
   "outputs": [],
   "source": [
    "# generating a problem_set for blocksworld\n",
    "from generate_problem_sets import generate_unique_problem_set, create_blocksworld_problem_json\n",
    "\n",
    "problem_set = generate_unique_problem_set(5, (5, 7), (10, 14)) # 5 states with 5-6 blocks and solution length 10-12\n",
    "print(f'This is what a BlocksWorld state (opt_cost, state_description) looks like inside the problem sets: {problem_set[0]}')\n",
    "\n",
    "create_blocksworld_problem_json(problem_set, 'examples/problem_sets/example_blocksworld_set.json')"
   ]
  },
  {
   "cell_type": "code",
   "execution_count": null,
   "metadata": {},
   "outputs": [],
   "source": [
    "# generating a strategy for blocksworld\n",
    "from main import generate_blocksworld_strategies\n",
    "\n",
    "generate_blocksworld_strategies(1, 'o1-preview-2024-09-12', 'examples/strategies/blocksworld') # 1 strategy using preview. "
   ]
  },
  {
   "cell_type": "code",
   "execution_count": null,
   "metadata": {},
   "outputs": [],
   "source": [
    "import json\n",
    "from main import generate_initial_blocksworld_solutions, do_blocksworld_error_correction\n",
    "\n",
    "with open(f'examples/strategies/blocksworld/strategy_1.json') as infile:\n",
    "    strategy_1 = json.load(infile)['strategy']\n",
    "\n",
    "# strategy = None for no strategy\n",
    "generate_initial_blocksworld_solutions('examples/problem_sets/example_blocksworld_set.json', 'o1-mini-2024-09-12', 'examples/responses/blocksworld/strategy_1_example_set', strategy = strategy_1)\n",
    "\n",
    "# repeat_only = True to ommit any error information (repeats original prompt)\n",
    "do_blocksworld_error_correction('examples/problem_sets/example_blocksworld_set.json', 'examples/responses/blocksworld/strategy_1_example_set', 3, 'o1-mini-2024-09-12', strategy = strategy_1)"
   ]
  },
  {
   "cell_type": "code",
   "execution_count": null,
   "metadata": {},
   "outputs": [],
   "source": [
    "# usually generate_initial_blocksworld_solutions or do_blocksworld_error_correction will do the summary and evaluation steps automatically. \n",
    "# However, if something goes wrong, they can be done manually. Also, setting summarise_solutions to False will prevent automatic summarisation and evaluation\n",
    "\n",
    "from main import generate_blocksworld_solutions_summary, evaluate_solution_file\n",
    "\n",
    "generate_blocksworld_solutions_summary('examples/problem_sets/example_blocksworld_set.json', 'examples/responses/blocksworld/strategy_1_example_set/round_0')\n",
    "evaluate_solution_file('examples/problem_sets/example_blocksworld_set.json', 'examples/responses/blocksworld/strategy_1_example_set/round_0')"
   ]
  },
  {
   "cell_type": "markdown",
   "metadata": {},
   "source": [
    "### Critical Reasoning Test Type 3"
   ]
  },
  {
   "cell_type": "code",
   "execution_count": null,
   "metadata": {},
   "outputs": [],
   "source": [
    "from generate_problem_sets import generate_crt_problems\n",
    "\n",
    "generate_crt_problems(1, 'crt_templates.json', 'examples/problem_sets/crt_problem_set.json') # repeats once for the 50 templates "
   ]
  },
  {
   "cell_type": "code",
   "execution_count": null,
   "metadata": {},
   "outputs": [],
   "source": [
    "from main import generate_crt_strategies\n",
    "\n",
    "generate_crt_strategies(1, 'o1-preview-2024-09-12', 'examples/strategies/crt')"
   ]
  },
  {
   "cell_type": "code",
   "execution_count": null,
   "metadata": {},
   "outputs": [],
   "source": [
    "import json\n",
    "from main import generate_initial_crt_solutions, do_crt_error_correction\n",
    "\n",
    "with open(f'examples/strategies/crt/strategy_1.json') as infile:\n",
    "    strategy_1 = json.load(infile)['strategy']\n",
    "\n",
    "generate_initial_crt_solutions('examples/problem_sets/crt_problem_set.json', 'examples/responses/crt/answers_example.json', 'gpt-4o-mini-2024-07-18', strategy = strategy_1)\n",
    "do_crt_error_correction('examples/responses/crt/answers_example', 'gpt-4o-mini-2024-07-18', 2, strategy = strategy_1)"
   ]
  }
 ],
 "metadata": {
  "kernelspec": {
   "display_name": "domain_strategies",
   "language": "python",
   "name": "python3"
  },
  "language_info": {
   "codemirror_mode": {
    "name": "ipython",
    "version": 3
   },
   "file_extension": ".py",
   "mimetype": "text/x-python",
   "name": "python",
   "nbconvert_exporter": "python",
   "pygments_lexer": "ipython3",
   "version": "3.12.7"
  }
 },
 "nbformat": 4,
 "nbformat_minor": 2
}
